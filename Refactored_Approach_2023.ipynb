{
 "cells": [
  {
   "cell_type": "markdown",
   "metadata": {},
   "source": [
    "# Alzheimers Prediction - Refactored Approach\n",
    "\n",
    "_Predicting Cognitively Normal (CN), Mild Cognitive Impairment (MCI), or Alzheimers (AD)_"
   ]
  },
  {
   "cell_type": "markdown",
   "metadata": {},
   "source": [
    "## Variable Descriptions\n",
    "* `directory.id`\tId assigned to imaging directories. Not from LONi data\n",
    "* `Subject (PTID)`\tParticipant ID\n",
    "* `RID`\tParticipant roster ID\n",
    "* `Image.Data.ID`\tMRI ID\n",
    "* `Modality`\tImage type\n",
    "* `Visit`\t1=screening scan\n",
    "* `Acq.Date`\tMRI date\n",
    "* `DX.bl`\tDiagnosis at baseline\n",
    "* `EXAMDATE`\tExamination Date\n",
    "* `AGE`\t    Age at baseline\n",
    "* `PTGENDER`\tSex\n",
    "* `PTEDUCAT`\tYears of Education\n",
    "* `PTETHCAT`\tEthnicity\n",
    "* `PTRACCAT`\tRace\n",
    "* `APOE4`\tAPOE4 genotype\n",
    "* `MMSE`\tMMSE score on cognitive test\n",
    "* `imputed_genotype`\tChallenge specific designation, TRUE=has imputed genotypes\n",
    "* `APOE Genotype`\tAPOE allele 1 and allele 2 genotypes\n",
    "\n",
    "### Target\n",
    "* `Dx Codes for Submission`\tThe LMCI in the ADNI data is equivalent to MCI in test. This column just converts LMCI->MCI"
   ]
  },
  {
   "cell_type": "code",
   "execution_count": 23,
   "metadata": {},
   "outputs": [],
   "source": [
    "import pandas as pd\n",
    "\n",
    "from matplotlib import pyplot as plt\n",
    "%matplotlib inline"
   ]
  },
  {
   "cell_type": "markdown",
   "metadata": {},
   "source": [
    "## Exploration & Pre-processing"
   ]
  },
  {
   "cell_type": "code",
   "execution_count": 88,
   "metadata": {},
   "outputs": [
    {
     "data": {
      "text/html": [
       "<div>\n",
       "<style scoped>\n",
       "    .dataframe tbody tr th:only-of-type {\n",
       "        vertical-align: middle;\n",
       "    }\n",
       "\n",
       "    .dataframe tbody tr th {\n",
       "        vertical-align: top;\n",
       "    }\n",
       "\n",
       "    .dataframe thead th {\n",
       "        text-align: right;\n",
       "    }\n",
       "</style>\n",
       "<table border=\"1\" class=\"dataframe\">\n",
       "  <thead>\n",
       "    <tr style=\"text-align: right;\">\n",
       "      <th></th>\n",
       "      <th>directory.id</th>\n",
       "      <th>Subject</th>\n",
       "      <th>RID</th>\n",
       "      <th>Image.Data.ID</th>\n",
       "      <th>Modality</th>\n",
       "      <th>Visit</th>\n",
       "      <th>Acq.Date</th>\n",
       "      <th>DX.bl</th>\n",
       "      <th>EXAMDATE</th>\n",
       "      <th>AGE</th>\n",
       "      <th>PTGENDER</th>\n",
       "      <th>PTEDUCAT</th>\n",
       "      <th>PTETHCAT</th>\n",
       "      <th>PTRACCAT</th>\n",
       "      <th>APOE4</th>\n",
       "      <th>MMSE</th>\n",
       "      <th>imputed_genotype</th>\n",
       "      <th>APOE Genotype</th>\n",
       "      <th>Dx Codes for Submission</th>\n",
       "    </tr>\n",
       "  </thead>\n",
       "  <tbody>\n",
       "    <tr>\n",
       "      <th>0</th>\n",
       "      <td>4702245ea294ce5d4e9b8a87027dfdf4</td>\n",
       "      <td>011_S_0003</td>\n",
       "      <td>3</td>\n",
       "      <td>32237</td>\n",
       "      <td>MRI</td>\n",
       "      <td>1</td>\n",
       "      <td>9/1/05</td>\n",
       "      <td>AD</td>\n",
       "      <td>9/12/05</td>\n",
       "      <td>81.3</td>\n",
       "      <td>Male</td>\n",
       "      <td>18</td>\n",
       "      <td>Not Hisp/Latino</td>\n",
       "      <td>White</td>\n",
       "      <td>1</td>\n",
       "      <td>20</td>\n",
       "      <td>True</td>\n",
       "      <td>3,4</td>\n",
       "      <td>AD</td>\n",
       "    </tr>\n",
       "    <tr>\n",
       "      <th>1</th>\n",
       "      <td>2e89e352af743597b2368c412e0f6de2</td>\n",
       "      <td>022_S_0004</td>\n",
       "      <td>4</td>\n",
       "      <td>64631</td>\n",
       "      <td>MRI</td>\n",
       "      <td>1</td>\n",
       "      <td>9/22/05</td>\n",
       "      <td>LMCI</td>\n",
       "      <td>11/8/05</td>\n",
       "      <td>67.5</td>\n",
       "      <td>Male</td>\n",
       "      <td>10</td>\n",
       "      <td>Hisp/Latino</td>\n",
       "      <td>White</td>\n",
       "      <td>0</td>\n",
       "      <td>27</td>\n",
       "      <td>False</td>\n",
       "      <td>3,3</td>\n",
       "      <td>MCI</td>\n",
       "    </tr>\n",
       "    <tr>\n",
       "      <th>2</th>\n",
       "      <td>90419199306997753de8042f1fd55e38</td>\n",
       "      <td>011_S_0005</td>\n",
       "      <td>5</td>\n",
       "      <td>32246</td>\n",
       "      <td>MRI</td>\n",
       "      <td>1</td>\n",
       "      <td>9/2/05</td>\n",
       "      <td>CN</td>\n",
       "      <td>9/7/05</td>\n",
       "      <td>73.7</td>\n",
       "      <td>Male</td>\n",
       "      <td>16</td>\n",
       "      <td>Not Hisp/Latino</td>\n",
       "      <td>White</td>\n",
       "      <td>0</td>\n",
       "      <td>29</td>\n",
       "      <td>True</td>\n",
       "      <td>3,3</td>\n",
       "      <td>CN</td>\n",
       "    </tr>\n",
       "    <tr>\n",
       "      <th>3</th>\n",
       "      <td>d8d175ffff1e2053e6a18c5df494ccdf</td>\n",
       "      <td>100_S_0006</td>\n",
       "      <td>6</td>\n",
       "      <td>33025</td>\n",
       "      <td>MRI</td>\n",
       "      <td>1</td>\n",
       "      <td>11/15/05</td>\n",
       "      <td>LMCI</td>\n",
       "      <td>11/29/05</td>\n",
       "      <td>80.4</td>\n",
       "      <td>Female</td>\n",
       "      <td>13</td>\n",
       "      <td>Not Hisp/Latino</td>\n",
       "      <td>White</td>\n",
       "      <td>0</td>\n",
       "      <td>25</td>\n",
       "      <td>True</td>\n",
       "      <td>3,3</td>\n",
       "      <td>MCI</td>\n",
       "    </tr>\n",
       "    <tr>\n",
       "      <th>4</th>\n",
       "      <td>986e75b2e604cd44b38feb2188476fb2</td>\n",
       "      <td>011_S_0010</td>\n",
       "      <td>10</td>\n",
       "      <td>32270</td>\n",
       "      <td>MRI</td>\n",
       "      <td>1</td>\n",
       "      <td>11/7/05</td>\n",
       "      <td>AD</td>\n",
       "      <td>11/10/05</td>\n",
       "      <td>73.9</td>\n",
       "      <td>Female</td>\n",
       "      <td>12</td>\n",
       "      <td>Not Hisp/Latino</td>\n",
       "      <td>White</td>\n",
       "      <td>1</td>\n",
       "      <td>24</td>\n",
       "      <td>True</td>\n",
       "      <td>3,4</td>\n",
       "      <td>AD</td>\n",
       "    </tr>\n",
       "  </tbody>\n",
       "</table>\n",
       "</div>"
      ],
      "text/plain": [
       "                       directory.id     Subject  RID  Image.Data.ID Modality  \\\n",
       "0  4702245ea294ce5d4e9b8a87027dfdf4  011_S_0003    3          32237      MRI   \n",
       "1  2e89e352af743597b2368c412e0f6de2  022_S_0004    4          64631      MRI   \n",
       "2  90419199306997753de8042f1fd55e38  011_S_0005    5          32246      MRI   \n",
       "3  d8d175ffff1e2053e6a18c5df494ccdf  100_S_0006    6          33025      MRI   \n",
       "4  986e75b2e604cd44b38feb2188476fb2  011_S_0010   10          32270      MRI   \n",
       "\n",
       "   Visit  Acq.Date DX.bl  EXAMDATE   AGE PTGENDER  PTEDUCAT         PTETHCAT  \\\n",
       "0      1    9/1/05    AD   9/12/05  81.3     Male        18  Not Hisp/Latino   \n",
       "1      1   9/22/05  LMCI   11/8/05  67.5     Male        10      Hisp/Latino   \n",
       "2      1    9/2/05    CN    9/7/05  73.7     Male        16  Not Hisp/Latino   \n",
       "3      1  11/15/05  LMCI  11/29/05  80.4   Female        13  Not Hisp/Latino   \n",
       "4      1   11/7/05    AD  11/10/05  73.9   Female        12  Not Hisp/Latino   \n",
       "\n",
       "  PTRACCAT  APOE4  MMSE imputed_genotype APOE Genotype Dx Codes for Submission  \n",
       "0    White      1    20             True           3,4                      AD  \n",
       "1    White      0    27            False           3,3                     MCI  \n",
       "2    White      0    29             True           3,3                      CN  \n",
       "3    White      0    25             True           3,3                     MCI  \n",
       "4    White      1    24             True           3,4                      AD  "
      ]
     },
     "execution_count": 88,
     "metadata": {},
     "output_type": "execute_result"
    }
   ],
   "source": [
    "df = pd.read_csv('data/challenges/train/ADNI_Training_Q3_APOE_CollectionADNI1Complete 1Yr 1.5T_July22.2014.csv')\n",
    "\n",
    "df.head()"
   ]
  },
  {
   "cell_type": "code",
   "execution_count": 89,
   "metadata": {},
   "outputs": [
    {
     "data": {
      "text/plain": [
       "(628, 19)"
      ]
     },
     "execution_count": 89,
     "metadata": {},
     "output_type": "execute_result"
    }
   ],
   "source": [
    "# Small dataset\n",
    "df.shape"
   ]
  },
  {
   "cell_type": "code",
   "execution_count": 90,
   "metadata": {},
   "outputs": [
    {
     "data": {
      "text/plain": [
       "MCI    305\n",
       "CN     190\n",
       "AD     133\n",
       "Name: Dx Codes for Submission, dtype: int64"
      ]
     },
     "execution_count": 90,
     "metadata": {},
     "output_type": "execute_result"
    }
   ],
   "source": [
    "# Class balance\n",
    "df['Dx Codes for Submission'].value_counts()"
   ]
  },
  {
   "cell_type": "code",
   "execution_count": 91,
   "metadata": {},
   "outputs": [
    {
     "data": {
      "text/html": [
       "<div>\n",
       "<style scoped>\n",
       "    .dataframe tbody tr th:only-of-type {\n",
       "        vertical-align: middle;\n",
       "    }\n",
       "\n",
       "    .dataframe tbody tr th {\n",
       "        vertical-align: top;\n",
       "    }\n",
       "\n",
       "    .dataframe thead th {\n",
       "        text-align: right;\n",
       "    }\n",
       "</style>\n",
       "<table border=\"1\" class=\"dataframe\">\n",
       "  <thead>\n",
       "    <tr style=\"text-align: right;\">\n",
       "      <th></th>\n",
       "      <th>AGE</th>\n",
       "      <th>PTGENDER</th>\n",
       "      <th>PTEDUCAT</th>\n",
       "      <th>PTETHCAT</th>\n",
       "      <th>PTRACCAT</th>\n",
       "      <th>APOE4</th>\n",
       "      <th>MMSE</th>\n",
       "      <th>APOE Genotype</th>\n",
       "    </tr>\n",
       "  </thead>\n",
       "  <tbody>\n",
       "    <tr>\n",
       "      <th>0</th>\n",
       "      <td>81.3</td>\n",
       "      <td>Male</td>\n",
       "      <td>18</td>\n",
       "      <td>Not Hisp/Latino</td>\n",
       "      <td>White</td>\n",
       "      <td>1</td>\n",
       "      <td>20</td>\n",
       "      <td>3,4</td>\n",
       "    </tr>\n",
       "    <tr>\n",
       "      <th>1</th>\n",
       "      <td>67.5</td>\n",
       "      <td>Male</td>\n",
       "      <td>10</td>\n",
       "      <td>Hisp/Latino</td>\n",
       "      <td>White</td>\n",
       "      <td>0</td>\n",
       "      <td>27</td>\n",
       "      <td>3,3</td>\n",
       "    </tr>\n",
       "    <tr>\n",
       "      <th>2</th>\n",
       "      <td>73.7</td>\n",
       "      <td>Male</td>\n",
       "      <td>16</td>\n",
       "      <td>Not Hisp/Latino</td>\n",
       "      <td>White</td>\n",
       "      <td>0</td>\n",
       "      <td>29</td>\n",
       "      <td>3,3</td>\n",
       "    </tr>\n",
       "    <tr>\n",
       "      <th>3</th>\n",
       "      <td>80.4</td>\n",
       "      <td>Female</td>\n",
       "      <td>13</td>\n",
       "      <td>Not Hisp/Latino</td>\n",
       "      <td>White</td>\n",
       "      <td>0</td>\n",
       "      <td>25</td>\n",
       "      <td>3,3</td>\n",
       "    </tr>\n",
       "    <tr>\n",
       "      <th>4</th>\n",
       "      <td>73.9</td>\n",
       "      <td>Female</td>\n",
       "      <td>12</td>\n",
       "      <td>Not Hisp/Latino</td>\n",
       "      <td>White</td>\n",
       "      <td>1</td>\n",
       "      <td>24</td>\n",
       "      <td>3,4</td>\n",
       "    </tr>\n",
       "  </tbody>\n",
       "</table>\n",
       "</div>"
      ],
      "text/plain": [
       "    AGE PTGENDER  PTEDUCAT         PTETHCAT PTRACCAT  APOE4  MMSE  \\\n",
       "0  81.3     Male        18  Not Hisp/Latino    White      1    20   \n",
       "1  67.5     Male        10      Hisp/Latino    White      0    27   \n",
       "2  73.7     Male        16  Not Hisp/Latino    White      0    29   \n",
       "3  80.4   Female        13  Not Hisp/Latino    White      0    25   \n",
       "4  73.9   Female        12  Not Hisp/Latino    White      1    24   \n",
       "\n",
       "  APOE Genotype  \n",
       "0           3,4  \n",
       "1           3,3  \n",
       "2           3,3  \n",
       "3           3,3  \n",
       "4           3,4  "
      ]
     },
     "execution_count": 91,
     "metadata": {},
     "output_type": "execute_result"
    }
   ],
   "source": [
    "X = df[['AGE', 'PTGENDER', 'PTEDUCAT', 'PTETHCAT', 'PTRACCAT', 'APOE4', 'MMSE', 'APOE Genotype']]\n",
    "y = df['Dx Codes for Submission']\n",
    "\n",
    "X.head()"
   ]
  },
  {
   "cell_type": "code",
   "execution_count": 92,
   "metadata": {},
   "outputs": [
    {
     "data": {
      "text/plain": [
       "3,3    276\n",
       "3,4    221\n",
       "4,4     71\n",
       "2,3     45\n",
       "2,4     13\n",
       "2,2      2\n",
       "Name: APOE Genotype, dtype: int64"
      ]
     },
     "execution_count": 92,
     "metadata": {},
     "output_type": "execute_result"
    }
   ],
   "source": [
    "X['APOE Genotype'].value_counts()"
   ]
  },
  {
   "cell_type": "code",
   "execution_count": 93,
   "metadata": {},
   "outputs": [
    {
     "data": {
      "text/plain": [
       "AGE              0\n",
       "PTGENDER         0\n",
       "PTEDUCAT         0\n",
       "PTETHCAT         0\n",
       "PTRACCAT         0\n",
       "APOE4            0\n",
       "MMSE             0\n",
       "APOE Genotype    0\n",
       "dtype: int64"
      ]
     },
     "execution_count": 93,
     "metadata": {},
     "output_type": "execute_result"
    }
   ],
   "source": [
    "# No missing values\n",
    "X.isnull().sum()"
   ]
  },
  {
   "cell_type": "code",
   "execution_count": 94,
   "metadata": {},
   "outputs": [
    {
     "data": {
      "text/plain": [
       "Male      364\n",
       "Female    264\n",
       "Name: PTGENDER, dtype: int64"
      ]
     },
     "execution_count": 94,
     "metadata": {},
     "output_type": "execute_result"
    }
   ],
   "source": [
    "X['PTGENDER'].value_counts()"
   ]
  },
  {
   "cell_type": "code",
   "execution_count": 95,
   "metadata": {},
   "outputs": [
    {
     "name": "stdout",
     "output_type": "stream",
     "text": [
      "Categorical variable distributions:\n",
      "\n",
      "\n",
      "Distribution of PTGENDER\n",
      "Male      364\n",
      "Female    264\n",
      "Name: PTGENDER, dtype: int64\n"
     ]
    },
    {
     "data": {
      "image/png": "[encoded data removed]",
      "text/plain": [
       "<Figure size 432x288 with 1 Axes>"
      ]
     },
     "metadata": {
      "needs_background": "light"
     },
     "output_type": "display_data"
    },
    {
     "name": "stdout",
     "output_type": "stream",
     "text": [
      "\n",
      "Distribution of APOE4\n",
      "0    323\n",
      "1    234\n",
      "2     71\n",
      "Name: APOE4, dtype: int64\n"
     ]
    },
    {
     "data": {
      "image/png": "[encoded data removed]",
      "text/plain": [
       "<Figure size 432x288 with 1 Axes>"
      ]
     },
     "metadata": {
      "needs_background": "light"
     },
     "output_type": "display_data"
    },
    {
     "name": "stdout",
     "output_type": "stream",
     "text": [
      "\n",
      "Distribution of APOE Genotype\n",
      "3,3    276\n",
      "3,4    221\n",
      "4,4     71\n",
      "2,3     45\n",
      "2,4     13\n",
      "2,2      2\n",
      "Name: APOE Genotype, dtype: int64\n"
     ]
    },
    {
     "data": {
      "image/png": "[encoded data removed]",
      "text/plain": [
       "<Figure size 432x288 with 1 Axes>"
      ]
     },
     "metadata": {
      "needs_background": "light"
     },
     "output_type": "display_data"
    },
    {
     "name": "stdout",
     "output_type": "stream",
     "text": [
      "\n",
      "Distribution of PTETHCAT\n",
      "Not Hisp/Latino    617\n",
      "Hisp/Latino          8\n",
      "Unknown              3\n",
      "Name: PTETHCAT, dtype: int64\n"
     ]
    },
    {
     "data": {
      "image/png": "[encoded data removed]",
      "text/plain": [
       "<Figure size 432x288 with 1 Axes>"
      ]
     },
     "metadata": {
      "needs_background": "light"
     },
     "output_type": "display_data"
    },
    {
     "name": "stdout",
     "output_type": "stream",
     "text": [
      "\n",
      "Distribution of PTRACCAT\n",
      "White    584\n",
      "Black     31\n",
      "Asian     13\n",
      "Name: PTRACCAT, dtype: int64\n"
     ]
    },
    {
     "data": {
      "image/png": "[encoded data removed]",
      "text/plain": [
       "<Figure size 432x288 with 1 Axes>"
      ]
     },
     "metadata": {
      "needs_background": "light"
     },
     "output_type": "display_data"
    }
   ],
   "source": [
    "numerical_vars = ['AGE', 'PTEDUCAT', 'MMSE']\n",
    "cat_vars = list(set(X.columns) - set(numerical_vars))\n",
    "\n",
    "def eval_cat_vars(X, variables):\n",
    "    print('Categorical variable distributions:\\n')\n",
    "\n",
    "    for var in variables:\n",
    "        print('\\nDistribution of', var)\n",
    "\n",
    "        dist = X[var].value_counts()\n",
    "        print(dist)\n",
    "        dist.plot(kind='bar')\n",
    "        plt.show()\n",
    "        \n",
    "eval_cat_vars(X, cat_vars)"
   ]
  },
  {
   "cell_type": "code",
   "execution_count": 96,
   "metadata": {},
   "outputs": [
    {
     "name": "stdout",
     "output_type": "stream",
     "text": [
      "Numerical Var Distributions:\n",
      "\n"
     ]
    },
    {
     "data": {
      "image/png": "[encoded data removed]",
      "text/plain": [
       "<Figure size 432x288 with 1 Axes>"
      ]
     },
     "metadata": {
      "needs_background": "light"
     },
     "output_type": "display_data"
    },
    {
     "name": "stdout",
     "output_type": "stream",
     "text": [
      "count    628.000000\n",
      "mean      75.169586\n",
      "std        6.687429\n",
      "min       55.100000\n",
      "25%       71.200000\n",
      "50%       75.450000\n",
      "75%       80.000000\n",
      "max       89.600000\n",
      "Name: AGE, dtype: float64\n"
     ]
    },
    {
     "data": {
      "image/png": "[encoded data removed]",
      "text/plain": [
       "<Figure size 432x288 with 1 Axes>"
      ]
     },
     "metadata": {
      "needs_background": "light"
     },
     "output_type": "display_data"
    },
    {
     "name": "stdout",
     "output_type": "stream",
     "text": [
      "count    628.000000\n",
      "mean      15.616242\n",
      "std        2.977993\n",
      "min        6.000000\n",
      "25%       13.000000\n",
      "50%       16.000000\n",
      "75%       18.000000\n",
      "max       20.000000\n",
      "Name: PTEDUCAT, dtype: float64\n"
     ]
    },
    {
     "data": {
      "image/png": "[encoded data removed]",
      "text/plain": [
       "<Figure size 432x288 with 1 Axes>"
      ]
     },
     "metadata": {
      "needs_background": "light"
     },
     "output_type": "display_data"
    },
    {
     "name": "stdout",
     "output_type": "stream",
     "text": [
      "count    628.000000\n",
      "mean      26.920382\n",
      "std        2.562152\n",
      "min       20.000000\n",
      "25%       25.000000\n",
      "50%       27.000000\n",
      "75%       29.000000\n",
      "max       30.000000\n",
      "Name: MMSE, dtype: float64\n"
     ]
    }
   ],
   "source": [
    "from matplotlib import pyplot as plt\n",
    "%matplotlib inline\n",
    "\n",
    "def eval_num_vars(X, variables):\n",
    "    print('Numerical Var Distributions:\\n')\n",
    "\n",
    "    for var in variables:\n",
    "        plt.hist(X[var], bins=10)\n",
    "        plt.title(var + ' Distribution')\n",
    "        plt.show()\n",
    "\n",
    "        # descriptive stats\n",
    "        print(X[var].describe())\n",
    "        \n",
    "eval_num_vars(X, numerical_vars)"
   ]
  },
  {
   "cell_type": "markdown",
   "metadata": {},
   "source": [
    "## Pre-processing\n",
    "\n",
    "One-hot encode"
   ]
  },
  {
   "cell_type": "code",
   "execution_count": 97,
   "metadata": {},
   "outputs": [
    {
     "data": {
      "text/html": [
       "<div>\n",
       "<style scoped>\n",
       "    .dataframe tbody tr th:only-of-type {\n",
       "        vertical-align: middle;\n",
       "    }\n",
       "\n",
       "    .dataframe tbody tr th {\n",
       "        vertical-align: top;\n",
       "    }\n",
       "\n",
       "    .dataframe thead th {\n",
       "        text-align: right;\n",
       "    }\n",
       "</style>\n",
       "<table border=\"1\" class=\"dataframe\">\n",
       "  <thead>\n",
       "    <tr style=\"text-align: right;\">\n",
       "      <th></th>\n",
       "      <th>AGE</th>\n",
       "      <th>PTGENDER</th>\n",
       "      <th>PTEDUCAT</th>\n",
       "      <th>PTETHCAT</th>\n",
       "      <th>PTRACCAT</th>\n",
       "      <th>APOE4</th>\n",
       "      <th>MMSE</th>\n",
       "      <th>APOE Genotype</th>\n",
       "    </tr>\n",
       "  </thead>\n",
       "  <tbody>\n",
       "    <tr>\n",
       "      <th>0</th>\n",
       "      <td>81.3</td>\n",
       "      <td>Male</td>\n",
       "      <td>18</td>\n",
       "      <td>Not Hisp/Latino</td>\n",
       "      <td>White</td>\n",
       "      <td>1</td>\n",
       "      <td>20</td>\n",
       "      <td>3,4</td>\n",
       "    </tr>\n",
       "    <tr>\n",
       "      <th>1</th>\n",
       "      <td>67.5</td>\n",
       "      <td>Male</td>\n",
       "      <td>10</td>\n",
       "      <td>Hisp/Latino</td>\n",
       "      <td>White</td>\n",
       "      <td>0</td>\n",
       "      <td>27</td>\n",
       "      <td>3,3</td>\n",
       "    </tr>\n",
       "    <tr>\n",
       "      <th>2</th>\n",
       "      <td>73.7</td>\n",
       "      <td>Male</td>\n",
       "      <td>16</td>\n",
       "      <td>Not Hisp/Latino</td>\n",
       "      <td>White</td>\n",
       "      <td>0</td>\n",
       "      <td>29</td>\n",
       "      <td>3,3</td>\n",
       "    </tr>\n",
       "    <tr>\n",
       "      <th>3</th>\n",
       "      <td>80.4</td>\n",
       "      <td>Female</td>\n",
       "      <td>13</td>\n",
       "      <td>Not Hisp/Latino</td>\n",
       "      <td>White</td>\n",
       "      <td>0</td>\n",
       "      <td>25</td>\n",
       "      <td>3,3</td>\n",
       "    </tr>\n",
       "    <tr>\n",
       "      <th>4</th>\n",
       "      <td>73.9</td>\n",
       "      <td>Female</td>\n",
       "      <td>12</td>\n",
       "      <td>Not Hisp/Latino</td>\n",
       "      <td>White</td>\n",
       "      <td>1</td>\n",
       "      <td>24</td>\n",
       "      <td>3,4</td>\n",
       "    </tr>\n",
       "  </tbody>\n",
       "</table>\n",
       "</div>"
      ],
      "text/plain": [
       "    AGE PTGENDER  PTEDUCAT         PTETHCAT PTRACCAT  APOE4  MMSE  \\\n",
       "0  81.3     Male        18  Not Hisp/Latino    White      1    20   \n",
       "1  67.5     Male        10      Hisp/Latino    White      0    27   \n",
       "2  73.7     Male        16  Not Hisp/Latino    White      0    29   \n",
       "3  80.4   Female        13  Not Hisp/Latino    White      0    25   \n",
       "4  73.9   Female        12  Not Hisp/Latino    White      1    24   \n",
       "\n",
       "  APOE Genotype  \n",
       "0           3,4  \n",
       "1           3,3  \n",
       "2           3,3  \n",
       "3           3,3  \n",
       "4           3,4  "
      ]
     },
     "execution_count": 97,
     "metadata": {},
     "output_type": "execute_result"
    }
   ],
   "source": [
    "X.head()"
   ]
  },
  {
   "cell_type": "code",
   "execution_count": 98,
   "metadata": {},
   "outputs": [
    {
     "name": "stdout",
     "output_type": "stream",
     "text": [
      "Converting PTGENDER to 1-hot encoding\n",
      "Converting APOE4 to 1-hot encoding\n",
      "Converting APOE Genotype to 1-hot encoding\n",
      "Converting PTETHCAT to 1-hot encoding\n",
      "Converting PTRACCAT to 1-hot encoding\n"
     ]
    },
    {
     "data": {
      "text/html": [
       "<div>\n",
       "<style scoped>\n",
       "    .dataframe tbody tr th:only-of-type {\n",
       "        vertical-align: middle;\n",
       "    }\n",
       "\n",
       "    .dataframe tbody tr th {\n",
       "        vertical-align: top;\n",
       "    }\n",
       "\n",
       "    .dataframe thead th {\n",
       "        text-align: right;\n",
       "    }\n",
       "</style>\n",
       "<table border=\"1\" class=\"dataframe\">\n",
       "  <thead>\n",
       "    <tr style=\"text-align: right;\">\n",
       "      <th></th>\n",
       "      <th>AGE</th>\n",
       "      <th>PTEDUCAT</th>\n",
       "      <th>MMSE</th>\n",
       "      <th>Female</th>\n",
       "      <th>Male</th>\n",
       "      <th>0</th>\n",
       "      <th>1</th>\n",
       "      <th>2</th>\n",
       "      <th>2,2</th>\n",
       "      <th>2,3</th>\n",
       "      <th>2,4</th>\n",
       "      <th>3,3</th>\n",
       "      <th>3,4</th>\n",
       "      <th>4,4</th>\n",
       "      <th>Hisp/Latino</th>\n",
       "      <th>Not Hisp/Latino</th>\n",
       "      <th>Unknown</th>\n",
       "      <th>Asian</th>\n",
       "      <th>Black</th>\n",
       "      <th>White</th>\n",
       "    </tr>\n",
       "  </thead>\n",
       "  <tbody>\n",
       "    <tr>\n",
       "      <th>0</th>\n",
       "      <td>81.3</td>\n",
       "      <td>18</td>\n",
       "      <td>20</td>\n",
       "      <td>0</td>\n",
       "      <td>1</td>\n",
       "      <td>0</td>\n",
       "      <td>1</td>\n",
       "      <td>0</td>\n",
       "      <td>0</td>\n",
       "      <td>0</td>\n",
       "      <td>0</td>\n",
       "      <td>0</td>\n",
       "      <td>1</td>\n",
       "      <td>0</td>\n",
       "      <td>0</td>\n",
       "      <td>1</td>\n",
       "      <td>0</td>\n",
       "      <td>0</td>\n",
       "      <td>0</td>\n",
       "      <td>1</td>\n",
       "    </tr>\n",
       "    <tr>\n",
       "      <th>1</th>\n",
       "      <td>67.5</td>\n",
       "      <td>10</td>\n",
       "      <td>27</td>\n",
       "      <td>0</td>\n",
       "      <td>1</td>\n",
       "      <td>1</td>\n",
       "      <td>0</td>\n",
       "      <td>0</td>\n",
       "      <td>0</td>\n",
       "      <td>0</td>\n",
       "      <td>0</td>\n",
       "      <td>1</td>\n",
       "      <td>0</td>\n",
       "      <td>0</td>\n",
       "      <td>1</td>\n",
       "      <td>0</td>\n",
       "      <td>0</td>\n",
       "      <td>0</td>\n",
       "      <td>0</td>\n",
       "      <td>1</td>\n",
       "    </tr>\n",
       "    <tr>\n",
       "      <th>2</th>\n",
       "      <td>73.7</td>\n",
       "      <td>16</td>\n",
       "      <td>29</td>\n",
       "      <td>0</td>\n",
       "      <td>1</td>\n",
       "      <td>1</td>\n",
       "      <td>0</td>\n",
       "      <td>0</td>\n",
       "      <td>0</td>\n",
       "      <td>0</td>\n",
       "      <td>0</td>\n",
       "      <td>1</td>\n",
       "      <td>0</td>\n",
       "      <td>0</td>\n",
       "      <td>0</td>\n",
       "      <td>1</td>\n",
       "      <td>0</td>\n",
       "      <td>0</td>\n",
       "      <td>0</td>\n",
       "      <td>1</td>\n",
       "    </tr>\n",
       "    <tr>\n",
       "      <th>3</th>\n",
       "      <td>80.4</td>\n",
       "      <td>13</td>\n",
       "      <td>25</td>\n",
       "      <td>1</td>\n",
       "      <td>0</td>\n",
       "      <td>1</td>\n",
       "      <td>0</td>\n",
       "      <td>0</td>\n",
       "      <td>0</td>\n",
       "      <td>0</td>\n",
       "      <td>0</td>\n",
       "      <td>1</td>\n",
       "      <td>0</td>\n",
       "      <td>0</td>\n",
       "      <td>0</td>\n",
       "      <td>1</td>\n",
       "      <td>0</td>\n",
       "      <td>0</td>\n",
       "      <td>0</td>\n",
       "      <td>1</td>\n",
       "    </tr>\n",
       "  </tbody>\n",
       "</table>\n",
       "</div>"
      ],
      "text/plain": [
       "    AGE  PTEDUCAT  MMSE  Female  Male  0  1  2  2,2  2,3  2,4  3,3  3,4  4,4  \\\n",
       "0  81.3        18    20       0     1  0  1  0    0    0    0    0    1    0   \n",
       "1  67.5        10    27       0     1  1  0  0    0    0    0    1    0    0   \n",
       "2  73.7        16    29       0     1  1  0  0    0    0    0    1    0    0   \n",
       "3  80.4        13    25       1     0  1  0  0    0    0    0    1    0    0   \n",
       "\n",
       "   Hisp/Latino  Not Hisp/Latino  Unknown  Asian  Black  White  \n",
       "0            0                1        0      0      0      1  \n",
       "1            1                0        0      0      0      1  \n",
       "2            0                1        0      0      0      1  \n",
       "3            0                1        0      0      0      1  "
      ]
     },
     "execution_count": 98,
     "metadata": {},
     "output_type": "execute_result"
    }
   ],
   "source": [
    "for var in cat_vars:\n",
    "    print('Converting', var, 'to 1-hot encoding')\n",
    "    \n",
    "    #get 1-hot and replace original column with the >= 2 categories as columns\n",
    "    one_hot_df = pd.get_dummies(X[var])\n",
    "    X = pd.concat([X, one_hot_df], axis=1)\n",
    "    X = X.drop(var, axis=1)\n",
    "    \n",
    "X.head(4)"
   ]
  },
  {
   "cell_type": "markdown",
   "metadata": {},
   "source": [
    "Normalize numerical values [0, 1]"
   ]
  },
  {
   "cell_type": "code",
   "execution_count": 99,
   "metadata": {},
   "outputs": [
    {
     "data": {
      "text/html": [
       "<div>\n",
       "<style scoped>\n",
       "    .dataframe tbody tr th:only-of-type {\n",
       "        vertical-align: middle;\n",
       "    }\n",
       "\n",
       "    .dataframe tbody tr th {\n",
       "        vertical-align: top;\n",
       "    }\n",
       "\n",
       "    .dataframe thead th {\n",
       "        text-align: right;\n",
       "    }\n",
       "</style>\n",
       "<table border=\"1\" class=\"dataframe\">\n",
       "  <thead>\n",
       "    <tr style=\"text-align: right;\">\n",
       "      <th></th>\n",
       "      <th>AGE</th>\n",
       "      <th>PTEDUCAT</th>\n",
       "      <th>MMSE</th>\n",
       "      <th>Female</th>\n",
       "      <th>Male</th>\n",
       "      <th>0</th>\n",
       "      <th>1</th>\n",
       "      <th>2</th>\n",
       "      <th>2,2</th>\n",
       "      <th>2,3</th>\n",
       "      <th>2,4</th>\n",
       "      <th>3,3</th>\n",
       "      <th>3,4</th>\n",
       "      <th>4,4</th>\n",
       "      <th>Hisp/Latino</th>\n",
       "      <th>Not Hisp/Latino</th>\n",
       "      <th>Unknown</th>\n",
       "      <th>Asian</th>\n",
       "      <th>Black</th>\n",
       "      <th>White</th>\n",
       "    </tr>\n",
       "  </thead>\n",
       "  <tbody>\n",
       "    <tr>\n",
       "      <th>0</th>\n",
       "      <td>0.759420</td>\n",
       "      <td>0.857143</td>\n",
       "      <td>0.0</td>\n",
       "      <td>0</td>\n",
       "      <td>1</td>\n",
       "      <td>0</td>\n",
       "      <td>1</td>\n",
       "      <td>0</td>\n",
       "      <td>0</td>\n",
       "      <td>0</td>\n",
       "      <td>0</td>\n",
       "      <td>0</td>\n",
       "      <td>1</td>\n",
       "      <td>0</td>\n",
       "      <td>0</td>\n",
       "      <td>1</td>\n",
       "      <td>0</td>\n",
       "      <td>0</td>\n",
       "      <td>0</td>\n",
       "      <td>1</td>\n",
       "    </tr>\n",
       "    <tr>\n",
       "      <th>1</th>\n",
       "      <td>0.359420</td>\n",
       "      <td>0.285714</td>\n",
       "      <td>0.7</td>\n",
       "      <td>0</td>\n",
       "      <td>1</td>\n",
       "      <td>1</td>\n",
       "      <td>0</td>\n",
       "      <td>0</td>\n",
       "      <td>0</td>\n",
       "      <td>0</td>\n",
       "      <td>0</td>\n",
       "      <td>1</td>\n",
       "      <td>0</td>\n",
       "      <td>0</td>\n",
       "      <td>1</td>\n",
       "      <td>0</td>\n",
       "      <td>0</td>\n",
       "      <td>0</td>\n",
       "      <td>0</td>\n",
       "      <td>1</td>\n",
       "    </tr>\n",
       "    <tr>\n",
       "      <th>2</th>\n",
       "      <td>0.539130</td>\n",
       "      <td>0.714286</td>\n",
       "      <td>0.9</td>\n",
       "      <td>0</td>\n",
       "      <td>1</td>\n",
       "      <td>1</td>\n",
       "      <td>0</td>\n",
       "      <td>0</td>\n",
       "      <td>0</td>\n",
       "      <td>0</td>\n",
       "      <td>0</td>\n",
       "      <td>1</td>\n",
       "      <td>0</td>\n",
       "      <td>0</td>\n",
       "      <td>0</td>\n",
       "      <td>1</td>\n",
       "      <td>0</td>\n",
       "      <td>0</td>\n",
       "      <td>0</td>\n",
       "      <td>1</td>\n",
       "    </tr>\n",
       "    <tr>\n",
       "      <th>3</th>\n",
       "      <td>0.733333</td>\n",
       "      <td>0.500000</td>\n",
       "      <td>0.5</td>\n",
       "      <td>1</td>\n",
       "      <td>0</td>\n",
       "      <td>1</td>\n",
       "      <td>0</td>\n",
       "      <td>0</td>\n",
       "      <td>0</td>\n",
       "      <td>0</td>\n",
       "      <td>0</td>\n",
       "      <td>1</td>\n",
       "      <td>0</td>\n",
       "      <td>0</td>\n",
       "      <td>0</td>\n",
       "      <td>1</td>\n",
       "      <td>0</td>\n",
       "      <td>0</td>\n",
       "      <td>0</td>\n",
       "      <td>1</td>\n",
       "    </tr>\n",
       "    <tr>\n",
       "      <th>4</th>\n",
       "      <td>0.544928</td>\n",
       "      <td>0.428571</td>\n",
       "      <td>0.4</td>\n",
       "      <td>1</td>\n",
       "      <td>0</td>\n",
       "      <td>0</td>\n",
       "      <td>1</td>\n",
       "      <td>0</td>\n",
       "      <td>0</td>\n",
       "      <td>0</td>\n",
       "      <td>0</td>\n",
       "      <td>0</td>\n",
       "      <td>1</td>\n",
       "      <td>0</td>\n",
       "      <td>0</td>\n",
       "      <td>1</td>\n",
       "      <td>0</td>\n",
       "      <td>0</td>\n",
       "      <td>0</td>\n",
       "      <td>1</td>\n",
       "    </tr>\n",
       "  </tbody>\n",
       "</table>\n",
       "</div>"
      ],
      "text/plain": [
       "        AGE  PTEDUCAT  MMSE  Female  Male  0  1  2  2,2  2,3  2,4  3,3  3,4  \\\n",
       "0  0.759420  0.857143   0.0       0     1  0  1  0    0    0    0    0    1   \n",
       "1  0.359420  0.285714   0.7       0     1  1  0  0    0    0    0    1    0   \n",
       "2  0.539130  0.714286   0.9       0     1  1  0  0    0    0    0    1    0   \n",
       "3  0.733333  0.500000   0.5       1     0  1  0  0    0    0    0    1    0   \n",
       "4  0.544928  0.428571   0.4       1     0  0  1  0    0    0    0    0    1   \n",
       "\n",
       "   4,4  Hisp/Latino  Not Hisp/Latino  Unknown  Asian  Black  White  \n",
       "0    0            0                1        0      0      0      1  \n",
       "1    0            1                0        0      0      0      1  \n",
       "2    0            0                1        0      0      0      1  \n",
       "3    0            0                1        0      0      0      1  \n",
       "4    0            0                1        0      0      0      1  "
      ]
     },
     "execution_count": 99,
     "metadata": {},
     "output_type": "execute_result"
    }
   ],
   "source": [
    "from sklearn.preprocessing import MinMaxScaler\n",
    "\n",
    "scaler = MinMaxScaler()\n",
    "\n",
    "# Fit and transform the data using the scaler\n",
    "X[['AGE', 'PTEDUCAT', 'MMSE']] = scaler.fit_transform(X[['AGE', 'PTEDUCAT', 'MMSE']])\n",
    "X.head()"
   ]
  },
  {
   "cell_type": "markdown",
   "metadata": {},
   "source": [
    "## Train & Validate"
   ]
  },
  {
   "cell_type": "code",
   "execution_count": 100,
   "metadata": {},
   "outputs": [
    {
     "name": "stdout",
     "output_type": "stream",
     "text": [
      "Train set: (502, 20)\n",
      "Validation set: (63, 20)\n",
      "Test set: (63, 20)\n"
     ]
    }
   ],
   "source": [
    "from sklearn.model_selection import train_test_split\n",
    "\n",
    "# Split the data into training and testing sets\n",
    "X_train, X_test, y_train, y_test = train_test_split(X, y, test_size=0.2, random_state=42)\n",
    "\n",
    "# Further split 'test' into validation and test\n",
    "X_valid, X_test, y_valid, y_test = train_test_split(X_test, y_test, test_size=0.5, random_state=42)\n",
    "\n",
    "print('Train set:', X_train.shape)\n",
    "print('Validation set:', X_valid.shape)\n",
    "print('Test set:', X_test.shape)"
   ]
  },
  {
   "cell_type": "markdown",
   "metadata": {},
   "source": [
    "**Note:** Currently this is a 3-class classification problem. We can also collapse 'CN' and 'MCI' into one class and perform binary classification."
   ]
  },
  {
   "cell_type": "code",
   "execution_count": 101,
   "metadata": {},
   "outputs": [
    {
     "data": {
      "text/plain": [
       "0    2\n",
       "1    1\n",
       "2    0\n",
       "3    1\n",
       "4    2\n",
       "Name: Dx Codes for Submission, dtype: int64"
      ]
     },
     "execution_count": 101,
     "metadata": {},
     "output_type": "execute_result"
    }
   ],
   "source": [
    "# y = y.replace({\n",
    "#     'CN': 0,\n",
    "#     'MCI': 1,\n",
    "#     'AD': 2\n",
    "# })\n",
    "\n",
    "# y.head()"
   ]
  },
  {
   "cell_type": "code",
   "execution_count": 134,
   "metadata": {},
   "outputs": [
    {
     "name": "stdout",
     "output_type": "stream",
     "text": [
      "MCI    244\n",
      "CN     148\n",
      "AD     110\n",
      "Name: Dx Codes for Submission, dtype: int64\n",
      "MCI    34\n",
      "CN     17\n",
      "AD     12\n",
      "Name: Dx Codes for Submission, dtype: int64\n",
      "MCI    27\n",
      "CN     25\n",
      "AD     11\n",
      "Name: Dx Codes for Submission, dtype: int64\n"
     ]
    }
   ],
   "source": [
    "# Careful of a little class imbalance\n",
    "print(y_train.value_counts())\n",
    "print(y_valid.value_counts())\n",
    "print(y_test.value_counts())"
   ]
  },
  {
   "cell_type": "markdown",
   "metadata": {},
   "source": [
    "First, compare a few models with their default hyperparameters."
   ]
  },
  {
   "cell_type": "code",
   "execution_count": 103,
   "metadata": {},
   "outputs": [
    {
     "data": {
      "text/plain": [
       "332     CN\n",
       "6       CN\n",
       "104    MCI\n",
       "114    MCI\n",
       "482    MCI\n",
       "      ... \n",
       "71      CN\n",
       "106    MCI\n",
       "270     CN\n",
       "435     CN\n",
       "102     AD\n",
       "Name: Dx Codes for Submission, Length: 502, dtype: object"
      ]
     },
     "execution_count": 103,
     "metadata": {},
     "output_type": "execute_result"
    }
   ],
   "source": [
    "y_train"
   ]
  },
  {
   "cell_type": "code",
   "execution_count": 102,
   "metadata": {},
   "outputs": [
    {
     "name": "stderr",
     "output_type": "stream",
     "text": [
      "/Users/grantgasser/anaconda3/lib/python3.7/site-packages/sklearn/linear_model/_logistic.py:940: ConvergenceWarning: lbfgs failed to converge (status=1):\n",
      "STOP: TOTAL NO. of ITERATIONS REACHED LIMIT.\n",
      "\n",
      "Increase the number of iterations (max_iter) or scale the data as shown in:\n",
      "    https://scikit-learn.org/stable/modules/preprocessing.html\n",
      "Please also refer to the documentation for alternative solver options:\n",
      "    https://scikit-learn.org/stable/modules/linear_model.html#logistic-regression\n",
      "  extra_warning_msg=_LOGISTIC_SOLVER_CONVERGENCE_MSG)\n"
     ]
    },
    {
     "data": {
      "text/plain": [
       "array(['MCI', 'MCI', 'MCI', 'CN', 'CN', 'CN', 'MCI', 'CN', 'CN', 'AD',\n",
       "       'CN', 'MCI', 'CN', 'MCI', 'CN', 'MCI', 'MCI', 'MCI', 'MCI', 'AD',\n",
       "       'MCI', 'MCI', 'AD', 'CN', 'MCI', 'CN', 'MCI', 'CN', 'CN', 'MCI',\n",
       "       'CN', 'MCI', 'MCI', 'MCI', 'MCI', 'AD', 'MCI', 'MCI', 'AD', 'AD',\n",
       "       'MCI', 'MCI', 'MCI', 'MCI', 'MCI', 'CN', 'MCI', 'CN', 'AD', 'MCI',\n",
       "       'AD', 'AD', 'MCI', 'MCI', 'MCI', 'MCI', 'CN', 'MCI', 'CN', 'MCI',\n",
       "       'MCI', 'CN', 'CN'], dtype=object)"
      ]
     },
     "execution_count": 102,
     "metadata": {},
     "output_type": "execute_result"
    }
   ],
   "source": [
    "from sklearn.linear_model import LogisticRegression\n",
    "\n",
    "lr = LogisticRegression()\n",
    "\n",
    "# Fit the model on the training data\n",
    "lr.fit(X_train, y_train)\n",
    "\n",
    "# Make predictions on the validation data\n",
    "y_pred = lr.predict(X_valid)"
   ]
  },
  {
   "cell_type": "code",
   "execution_count": 116,
   "metadata": {},
   "outputs": [
    {
     "name": "stdout",
     "output_type": "stream",
     "text": [
      "Logistic Regression Validation Accuracy: 69.84%\n"
     ]
    }
   ],
   "source": [
    "from sklearn.metrics import accuracy_score\n",
    "\n",
    "lr_accuracy = accuracy_score(y_pred, y_valid)\n",
    "print(f\"Logistic Regression Validation Accuracy: {lr_accuracy:.2%}\")"
   ]
  },
  {
   "cell_type": "code",
   "execution_count": 119,
   "metadata": {},
   "outputs": [
    {
     "name": "stdout",
     "output_type": "stream",
     "text": [
      "Random Forest Validation Accuracy: 73.02%\n"
     ]
    }
   ],
   "source": [
    "from sklearn.ensemble import RandomForestClassifier\n",
    "\n",
    "rf = RandomForestClassifier()\n",
    "\n",
    "# Fit the model on the training data\n",
    "rf.fit(X_train, y_train)\n",
    "\n",
    "# Make predictions on the validation data\n",
    "y_pred = rf.predict(X_valid)\n",
    "\n",
    "from sklearn.metrics import accuracy_score\n",
    "\n",
    "rf_accuracy = accuracy_score(y_pred, y_valid)\n",
    "print(f\"Random Forest Validation Accuracy: {rf_accuracy:.2%}\")"
   ]
  },
  {
   "cell_type": "code",
   "execution_count": 122,
   "metadata": {},
   "outputs": [
    {
     "name": "stdout",
     "output_type": "stream",
     "text": [
      "XGBoost Validation Accuracy: 74.60%\n"
     ]
    }
   ],
   "source": [
    "from sklearn.ensemble import GradientBoostingClassifier\n",
    "\n",
    "# Create a GradientBoostingClassifier object\n",
    "gb = GradientBoostingClassifier(random_state=42)\n",
    "\n",
    "# Fit the model to the training data\n",
    "gb.fit(X_train, y_train)\n",
    "\n",
    "# Predict the classes of the validation set\n",
    "y_pred = gb.predict(X_valid)\n",
    "\n",
    "gb_accuracy = accuracy_score(y_pred, y_valid)\n",
    "print(f\"Boosting Validation Accuracy: {gb_accuracy:.2%}\")"
   ]
  },
  {
   "cell_type": "code",
   "execution_count": 128,
   "metadata": {
    "scrolled": true
   },
   "outputs": [
    {
     "data": {
      "image/png": "[encoded data removed]",
      "text/plain": [
       "<Figure size 432x288 with 1 Axes>"
      ]
     },
     "metadata": {
      "needs_background": "light"
     },
     "output_type": "display_data"
    }
   ],
   "source": [
    "feat_importances = gb.feature_importances_[:7]\n",
    "feat_names = X_train.columns[:7]\n",
    "feat_importances_df = pd.DataFrame({'Feature name':feat_names, 'Feature importance':feat_importances})\n",
    "feat_importances_df.sort_values(by='Feature importance', inplace=True)\n",
    "feat_importances_df.plot(kind='barh', x='Feature name', y='Feature importance')\n",
    "plt.title('Feature importances')\n",
    "plt.xlabel('Importance')\n",
    "plt.ylabel('Feature name')\n",
    "plt.show()"
   ]
  },
  {
   "cell_type": "markdown",
   "metadata": {},
   "source": [
    "### Some hyperparemeter tuning"
   ]
  },
  {
   "cell_type": "code",
   "execution_count": 129,
   "metadata": {},
   "outputs": [],
   "source": [
    "learning_rates = [0.01, 0.05, .1, .2]\n",
    "n_estimators = [50, 100, 300]\n",
    "min_samples_splits = [2, 3, 4]\n",
    "max_depths = [2,3,4,5]\n",
    "max_features = ['auto', 'sqrt', 'log2']"
   ]
  },
  {
   "cell_type": "code",
   "execution_count": 136,
   "metadata": {},
   "outputs": [
    {
     "name": "stdout",
     "output_type": "stream",
     "text": [
      "New best accuracy: 69.84% with params: {'learning_rate': 0.01, 'n_estimators': 50, 'min_samples_split': 2, 'max_depth': 2, 'max_features': 'auto'}\n",
      "\n",
      "New best accuracy: 73.02% with params: {'learning_rate': 0.01, 'n_estimators': 50, 'min_samples_split': 2, 'max_depth': 5, 'max_features': 'auto'}\n",
      "\n",
      "New best accuracy: 76.19% with params: {'learning_rate': 0.01, 'n_estimators': 100, 'min_samples_split': 2, 'max_depth': 5, 'max_features': 'auto'}\n",
      "\n",
      "New best accuracy: 77.78% with params: {'learning_rate': 0.1, 'n_estimators': 300, 'min_samples_split': 2, 'max_depth': 2, 'max_features': 'sqrt'}\n",
      "\n",
      "New best accuracy: 79.37% with params: {'learning_rate': 0.2, 'n_estimators': 300, 'min_samples_split': 3, 'max_depth': 2, 'max_features': 'sqrt'}\n",
      "\n"
     ]
    }
   ],
   "source": [
    "best_accuracy = float('-inf')\n",
    "best_hparams = {\n",
    "    'learning_rate': None,\n",
    "    'n_estimators': None,\n",
    "    'min_samples_split': None,\n",
    "    'max_depth': None,\n",
    "    'max_features': None\n",
    "}\n",
    "\n",
    "for learning_rate in learning_rates:\n",
    "    for n in n_estimators:\n",
    "        for min_samples_split in min_samples_splits:\n",
    "            for max_depth in max_depths:\n",
    "                for max_feature in max_features:\n",
    "                    #print(learning_rate, n, min_samples_split, max_depth, max_feature)\n",
    "                    \n",
    "                    curr_gb = GradientBoostingClassifier(\n",
    "                        learning_rate=learning_rate,\n",
    "                        n_estimators=n,\n",
    "                        min_samples_split=min_samples_split,\n",
    "                        max_depth=max_depth,\n",
    "                        max_features=max_feature,\n",
    "                        random_state=42\n",
    "                    )\n",
    "\n",
    "                    # Fit the model to the training data\n",
    "                    curr_gb.fit(X_train, y_train)\n",
    "\n",
    "                    # Predict the classes of the validation set\n",
    "                    y_pred = curr_gb.predict(X_valid)\n",
    "\n",
    "                    curr_gb_accuracy = accuracy_score(y_pred, y_valid)\n",
    "                    \n",
    "                    if curr_gb_accuracy > best_accuracy:\n",
    "                        best_accuracy = curr_gb_accuracy\n",
    "                        best_hparams = {\n",
    "                            'learning_rate': learning_rate,\n",
    "                            'n_estimators': n,\n",
    "                            'min_samples_split': min_samples_split,\n",
    "                            'max_depth': max_depth,\n",
    "                            'max_features': max_feature\n",
    "                        }\n",
    "                        print(f'New best accuracy: {best_accuracy:.2%} with params: {best_hparams}\\n')"
   ]
  },
  {
   "cell_type": "markdown",
   "metadata": {},
   "source": [
    "Can also use `GridSearchCV`"
   ]
  },
  {
   "cell_type": "code",
   "execution_count": 143,
   "metadata": {},
   "outputs": [
    {
     "data": {
      "text/plain": [
       "GradientBoostingClassifier(ccp_alpha=0.0, criterion='friedman_mse', init=None,\n",
       "                           learning_rate=0.2, loss='deviance', max_depth=2,\n",
       "                           max_features='sqrt', max_leaf_nodes=None,\n",
       "                           min_impurity_decrease=0.0, min_impurity_split=None,\n",
       "                           min_samples_leaf=1, min_samples_split=3,\n",
       "                           min_weight_fraction_leaf=0.0, n_estimators=400,\n",
       "                           n_iter_no_change=None, presort='deprecated',\n",
       "                           random_state=42, subsample=1.0, tol=0.0001,\n",
       "                           validation_fraction=0.1, verbose=0,\n",
       "                           warm_start=False)"
      ]
     },
     "execution_count": 143,
     "metadata": {},
     "output_type": "execute_result"
    }
   ],
   "source": [
    "# Train on best hparams\n",
    "best_hparams['random_state'] = 42\n",
    "best_gb = GradientBoostingClassifier(**best_hparams)\n",
    "\n",
    "# Fit the model to the training data\n",
    "best_gb.fit(X_train, y_train)"
   ]
  },
  {
   "cell_type": "code",
   "execution_count": 144,
   "metadata": {},
   "outputs": [
    {
     "name": "stdout",
     "output_type": "stream",
     "text": [
      "Test accuracy:  0.6190476190476191\n",
      "Test weighted F1 score:  0.6142716424631318\n"
     ]
    }
   ],
   "source": [
    "from sklearn.metrics import f1_score\n",
    "\n",
    "# Predict on test set\n",
    "y_pred = best_gb.predict(X_test)\n",
    "\n",
    "# Evaluate predictions\n",
    "test_acc = accuracy_score(y_test, y_pred)\n",
    "test_f1_weighted = f1_score(y_test, y_pred, average='weighted')\n",
    "\n",
    "print(\"Test accuracy: \", test_acc)\n",
    "print(\"Test weighted F1 score: \", test_f1_weighted)"
   ]
  },
  {
   "cell_type": "markdown",
   "metadata": {},
   "source": [
    "## TODO\n",
    "- [ ] use weighted average F1 rather than accuracy\n",
    "- [ ] try as a binary classification problem"
   ]
  },
  {
   "cell_type": "code",
   "execution_count": null,
   "metadata": {},
   "outputs": [],
   "source": []
  }
 ],
 "metadata": {
  "kernelspec": {
   "display_name": "Python 3",
   "language": "python",
   "name": "python3"
  },
  "language_info": {
   "codemirror_mode": {
    "name": "ipython",
    "version": 3
   },
   "file_extension": ".py",
   "mimetype": "text/x-python",
   "name": "python",
   "nbconvert_exporter": "python",
   "pygments_lexer": "ipython3",
   "version": "3.7.3"
  }
 },
 "nbformat": 4,
 "nbformat_minor": 4
}
